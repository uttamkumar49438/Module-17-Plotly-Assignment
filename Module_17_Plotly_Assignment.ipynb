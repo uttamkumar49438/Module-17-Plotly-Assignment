{
  "nbformat": 4,
  "nbformat_minor": 0,
  "metadata": {
    "colab": {
      "provenance": []
    },
    "kernelspec": {
      "name": "python3",
      "display_name": "Python 3"
    },
    "language_info": {
      "name": "python"
    }
  },
  "cells": [
    {
      "cell_type": "markdown",
      "source": [
        "Q1. Load the \"titanic\" dataset using the load_dataset function of seaborn. Use Plotly express to plot a\n",
        "scatter plot for age and fare columns in the titanic dataset."
      ],
      "metadata": {
        "id": "PeN0T7YvLd0L"
      }
    },
    {
      "cell_type": "code",
      "source": [
        "import seaborn as sns\n",
        "import plotly.express as px\n",
        "\n",
        "# Load the titanic dataset\n",
        "titanic_df = sns.load_dataset(\"titanic\")\n",
        "\n",
        "# Plot scatter plot using Plotly Express\n",
        "fig = px.scatter(titanic_df, x=\"age\", y=\"fare\", title=\"Scatter Plot of Age vs Fare in Titanic Dataset\")\n",
        "fig.show()"
      ],
      "metadata": {
        "id": "5O3nIC9oLk6U"
      },
      "execution_count": null,
      "outputs": []
    },
    {
      "cell_type": "markdown",
      "source": [
        "Q2. Using the tips dataset in the Plotly library, plot a box plot using Plotly express."
      ],
      "metadata": {
        "id": "tx9DOEm1LpXM"
      }
    },
    {
      "cell_type": "code",
      "source": [
        "import plotly.express as px\n",
        "\n",
        "# Load the tips dataset from Plotly\n",
        "tips_df = px.data.tips()\n",
        "\n",
        "# Plot box plot using Plotly Express\n",
        "fig = px.box(tips_df, x=\"day\", y=\"total_bill\", title=\"Box Plot of Total Bill by Day\")\n",
        "fig.show()"
      ],
      "metadata": {
        "id": "50PRHv9rLtMr"
      },
      "execution_count": null,
      "outputs": []
    },
    {
      "cell_type": "markdown",
      "source": [
        "Q3. Using the tips dataset in the Plotly library, Plot a histogram for x= \"sex\" and y=\"total_bill\" column in\n",
        "the tips dataset. Also, use the \"smoker\" column with the pattern_shape parameter and the \"day\"\n",
        "column with the color parameter.\n",
        "\n"
      ],
      "metadata": {
        "id": "RNMiZSmZLwfZ"
      }
    },
    {
      "cell_type": "code",
      "source": [
        "import plotly.express as px\n",
        "\n",
        "# Load the tips dataset from Plotly\n",
        "tips_df = px.data.tips()\n",
        "\n",
        "# Plot histogram using Plotly Express\n",
        "fig = px.histogram(tips_df, x=\"sex\", y=\"total_bill\", color=\"day\", pattern_shape=\"smoker\",\n",
        "                   title=\"Histogram of Total Bill by Sex with Smoker and Day\")\n",
        "fig.show()"
      ],
      "metadata": {
        "id": "K28jjBG-L4qk"
      },
      "execution_count": null,
      "outputs": []
    },
    {
      "cell_type": "markdown",
      "source": [
        "Q4. Using the iris dataset in the Plotly library, Plot a scatter matrix plot, using the \"species\" column for\n",
        "the color parameter.\n",
        "Note: Use \"sepal_length\", \"sepal_width\", \"petal_length\", \"petal_width\" columns only with the\n",
        "dimensions parameter."
      ],
      "metadata": {
        "id": "mMeuXFlkMAIf"
      }
    },
    {
      "cell_type": "code",
      "source": [
        "import plotly.express as px\n",
        "\n",
        "# Load the iris dataset from Plotly\n",
        "iris_df = px.data.iris()\n",
        "\n",
        "# Plot scatter matrix using Plotly Express\n",
        "fig = px.scatter_matrix(iris_df, dimensions=[\"sepal_length\", \"sepal_width\", \"petal_length\", \"petal_width\"],\n",
        "                        color=\"species\", title=\"Scatter Matrix Plot of Iris Dataset with Species Color\")\n",
        "fig.show()"
      ],
      "metadata": {
        "id": "eL_Znu5BMIvC"
      },
      "execution_count": null,
      "outputs": []
    },
    {
      "cell_type": "markdown",
      "source": [
        "Q5. What is Distplot? Using Plotly express, plot a distplot."
      ],
      "metadata": {
        "id": "Q2C7RiNWMMry"
      }
    },
    {
      "cell_type": "code",
      "source": [
        "import plotly.express as px\n",
        "\n",
        "# Load the tips dataset from Plotly\n",
        "tips_df = px.data.tips()\n",
        "\n",
        "# Plot distplot using Plotly Express\n",
        "fig = px.histogram(tips_df, x=\"total_bill\", marginal=\"rug\", title=\"Distplot of Total Bill\")\n",
        "fig.show()"
      ],
      "metadata": {
        "id": "A9lRCC8dMVDK"
      },
      "execution_count": null,
      "outputs": []
    }
  ]
}